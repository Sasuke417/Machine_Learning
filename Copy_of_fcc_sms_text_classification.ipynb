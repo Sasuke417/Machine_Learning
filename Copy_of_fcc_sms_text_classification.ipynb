{
  "nbformat": 4,
  "nbformat_minor": 0,
  "metadata": {
    "colab": {
      "name": "Copy of fcc_sms_text_classification.ipynb",
      "provenance": [],
      "collapsed_sections": [],
      "include_colab_link": true
    },
    "kernelspec": {
      "display_name": "Python 3",
      "name": "python3"
    },
    "accelerator": "GPU"
  },
  "cells": [
    {
      "cell_type": "markdown",
      "metadata": {
        "id": "view-in-github",
        "colab_type": "text"
      },
      "source": [
        "<a href=\"https://colab.research.google.com/github/Sasuke417/Machine_Learning/blob/main/Copy_of_fcc_sms_text_classification.ipynb\" target=\"_parent\"><img src=\"https://colab.research.google.com/assets/colab-badge.svg\" alt=\"Open In Colab\"/></a>"
      ]
    },
    {
      "cell_type": "markdown",
      "metadata": {
        "id": "2IV4WOFGPkUs"
      },
      "source": [
        ""
      ]
    },
    {
      "cell_type": "markdown",
      "metadata": {
        "id": "Eg62Pmz3o83v"
      },
      "source": [
        "*Note: You are currently reading this using Google Colaboratory which is a cloud-hosted version of Jupyter Notebook. This is a document containing both text cells for documentation and runnable code cells. If you are unfamiliar with Jupyter Notebook, watch this 3-minute introduction before starting this challenge: https://www.youtube.com/watch?v=inN8seMm7UI*\n",
        "\n",
        "---\n",
        "\n",
        "In this challenge, you need to create a machine learning model that will classify SMS messages as either \"ham\" or \"spam\". A \"ham\" message is a normal message sent by a friend. A \"spam\" message is an advertisement or a message sent by a company.\n",
        "\n",
        "You should create a function called `predict_message` that takes a message string as an argument and returns a list. The first element in the list should be a number between zero and one that indicates the likeliness of \"ham\" (0) or \"spam\" (1). The second element in the list should be the word \"ham\" or \"spam\", depending on which is most likely.\n",
        "\n",
        "For this challenge, you will use the [SMS Spam Collection dataset](http://www.dt.fee.unicamp.br/~tiago/smsspamcollection/). The dataset has already been grouped into train data and test data.\n",
        "\n",
        "The first two cells import the libraries and data. The final cell tests your model and function. Add your code in between these cells.\n"
      ]
    },
    {
      "cell_type": "code",
      "metadata": {
        "id": "8RZOuS9LWQvv",
        "colab": {
          "base_uri": "https://localhost:8080/"
        },
        "outputId": "933bad27-b217-407f-9c73-12570f7aa1d4"
      },
      "source": [
        "import tensorflow as tf\n",
        "import pandas as pd\n",
        "from tensorflow import keras\n",
        "\n",
        "!pip install tensorflow-datasets\n",
        "\n",
        "import tensorflow_datasets as tfds\n",
        "import numpy as np\n",
        "import matplotlib.pyplot as plt\n",
        "import seaborn as sns\n",
        "from keras.models import Sequential\n",
        "from keras.layers import Dense\n",
        "\n",
        "!pip install -q tensorflow-hub\n",
        "\n",
        "import tensorflow_hub as hub"
      ],
      "execution_count": 1,
      "outputs": [
        {
          "output_type": "stream",
          "text": [
            "Requirement already satisfied: tensorflow-datasets in /usr/local/lib/python3.7/dist-packages (4.0.1)\n",
            "Requirement already satisfied: requests>=2.19.0 in /usr/local/lib/python3.7/dist-packages (from tensorflow-datasets) (2.23.0)\n",
            "Requirement already satisfied: numpy in /usr/local/lib/python3.7/dist-packages (from tensorflow-datasets) (1.19.5)\n",
            "Requirement already satisfied: dill in /usr/local/lib/python3.7/dist-packages (from tensorflow-datasets) (0.3.4)\n",
            "Requirement already satisfied: promise in /usr/local/lib/python3.7/dist-packages (from tensorflow-datasets) (2.3)\n",
            "Requirement already satisfied: tqdm in /usr/local/lib/python3.7/dist-packages (from tensorflow-datasets) (4.41.1)\n",
            "Requirement already satisfied: future in /usr/local/lib/python3.7/dist-packages (from tensorflow-datasets) (0.16.0)\n",
            "Requirement already satisfied: six in /usr/local/lib/python3.7/dist-packages (from tensorflow-datasets) (1.15.0)\n",
            "Requirement already satisfied: tensorflow-metadata in /usr/local/lib/python3.7/dist-packages (from tensorflow-datasets) (1.1.0)\n",
            "Requirement already satisfied: dm-tree in /usr/local/lib/python3.7/dist-packages (from tensorflow-datasets) (0.1.6)\n",
            "Requirement already satisfied: absl-py in /usr/local/lib/python3.7/dist-packages (from tensorflow-datasets) (0.12.0)\n",
            "Requirement already satisfied: termcolor in /usr/local/lib/python3.7/dist-packages (from tensorflow-datasets) (1.1.0)\n",
            "Requirement already satisfied: attrs>=18.1.0 in /usr/local/lib/python3.7/dist-packages (from tensorflow-datasets) (21.2.0)\n",
            "Requirement already satisfied: importlib-resources in /usr/local/lib/python3.7/dist-packages (from tensorflow-datasets) (5.2.0)\n",
            "Requirement already satisfied: protobuf>=3.6.1 in /usr/local/lib/python3.7/dist-packages (from tensorflow-datasets) (3.17.3)\n",
            "Requirement already satisfied: chardet<4,>=3.0.2 in /usr/local/lib/python3.7/dist-packages (from requests>=2.19.0->tensorflow-datasets) (3.0.4)\n",
            "Requirement already satisfied: certifi>=2017.4.17 in /usr/local/lib/python3.7/dist-packages (from requests>=2.19.0->tensorflow-datasets) (2021.5.30)\n",
            "Requirement already satisfied: urllib3!=1.25.0,!=1.25.1,<1.26,>=1.21.1 in /usr/local/lib/python3.7/dist-packages (from requests>=2.19.0->tensorflow-datasets) (1.24.3)\n",
            "Requirement already satisfied: idna<3,>=2.5 in /usr/local/lib/python3.7/dist-packages (from requests>=2.19.0->tensorflow-datasets) (2.10)\n",
            "Requirement already satisfied: zipp>=3.1.0 in /usr/local/lib/python3.7/dist-packages (from importlib-resources->tensorflow-datasets) (3.5.0)\n",
            "Requirement already satisfied: googleapis-common-protos<2,>=1.52.0 in /usr/local/lib/python3.7/dist-packages (from tensorflow-metadata->tensorflow-datasets) (1.53.0)\n"
          ],
          "name": "stdout"
        }
      ]
    },
    {
      "cell_type": "code",
      "metadata": {
        "id": "lMHwYXHXCar3",
        "colab": {
          "base_uri": "https://localhost:8080/"
        },
        "outputId": "a90e5066-5cf7-4680-9d0e-a985c22bc4c1"
      },
      "source": [
        "# get data files\n",
        "!wget https://cdn.freecodecamp.org/project-data/sms/train-data.tsv\n",
        "!wget https://cdn.freecodecamp.org/project-data/sms/valid-data.tsv\n",
        "\n",
        "train_file_path = \"train-data.tsv\"\n",
        "test_file_path = \"valid-data.tsv\""
      ],
      "execution_count": 8,
      "outputs": [
        {
          "output_type": "stream",
          "text": [
            "--2021-07-25 20:17:29--  https://cdn.freecodecamp.org/project-data/sms/train-data.tsv\n",
            "Resolving cdn.freecodecamp.org (cdn.freecodecamp.org)... 172.67.70.149, 104.26.2.33, 104.26.3.33, ...\n",
            "Connecting to cdn.freecodecamp.org (cdn.freecodecamp.org)|172.67.70.149|:443... connected.\n",
            "HTTP request sent, awaiting response... 200 OK\n",
            "Length: 358233 (350K) [text/tab-separated-values]\n",
            "Saving to: ‘train-data.tsv.1’\n",
            "\n",
            "\rtrain-data.tsv.1      0%[                    ]       0  --.-KB/s               \rtrain-data.tsv.1    100%[===================>] 349.84K  --.-KB/s    in 0.03s   \n",
            "\n",
            "2021-07-25 20:17:29 (11.7 MB/s) - ‘train-data.tsv.1’ saved [358233/358233]\n",
            "\n",
            "--2021-07-25 20:17:29--  https://cdn.freecodecamp.org/project-data/sms/valid-data.tsv\n",
            "Resolving cdn.freecodecamp.org (cdn.freecodecamp.org)... 172.67.70.149, 104.26.2.33, 104.26.3.33, ...\n",
            "Connecting to cdn.freecodecamp.org (cdn.freecodecamp.org)|172.67.70.149|:443... connected.\n",
            "HTTP request sent, awaiting response... 200 OK\n",
            "Length: 118774 (116K) [text/tab-separated-values]\n",
            "Saving to: ‘valid-data.tsv.1’\n",
            "\n",
            "valid-data.tsv.1    100%[===================>] 115.99K  --.-KB/s    in 0.01s   \n",
            "\n",
            "2021-07-25 20:17:30 (8.14 MB/s) - ‘valid-data.tsv.1’ saved [118774/118774]\n",
            "\n"
          ],
          "name": "stdout"
        }
      ]
    },
    {
      "cell_type": "code",
      "metadata": {
        "id": "g_h508FEClxO"
      },
      "source": [
        "df_train = pd.read_csv(train_file_path, sep='\\t',header=None)\n",
        "df_test = pd.read_csv(test_file_path, sep='\\t',header=None)"
      ],
      "execution_count": 9,
      "outputs": []
    },
    {
      "cell_type": "markdown",
      "metadata": {
        "id": "Sw8jM9MmQ1ZN"
      },
      "source": [
        "Convert labels ham and spam to 0 and 1"
      ]
    },
    {
      "cell_type": "code",
      "metadata": {
        "id": "zOMKywn4zReN"
      },
      "source": [
        "df_train[\"spam\"] = pd.get_dummies(df_train[0], drop_first=True)\n",
        "df_train = df_train.drop(0, axis=1)\n",
        "\n",
        "df_test[\"spam\"] = pd.get_dummies(df_test[0], drop_first=True)\n",
        "df_test = df_test.drop(0, axis=1)"
      ],
      "execution_count": 10,
      "outputs": []
    },
    {
      "cell_type": "markdown",
      "metadata": {
        "id": "_d4kofdPfAVL"
      },
      "source": [
        "Plotting spam count"
      ]
    },
    {
      "cell_type": "code",
      "metadata": {
        "id": "JE900BBie_tq",
        "colab": {
          "base_uri": "https://localhost:8080/",
          "height": 297
        },
        "outputId": "f394eeb4-07c5-4bf4-e34c-e24b8840c8b1"
      },
      "source": [
        "sns.countplot(x=\"spam\",data=df_train)"
      ],
      "execution_count": 11,
      "outputs": [
        {
          "output_type": "execute_result",
          "data": {
            "text/plain": [
              "<matplotlib.axes._subplots.AxesSubplot at 0x7fe52a5d4cd0>"
            ]
          },
          "metadata": {
            "tags": []
          },
          "execution_count": 11
        },
        {
          "output_type": "display_data",
          "data": {
            "image/png": "[encoded data removed]",
            "text/plain": [
              "<Figure size 432x288 with 1 Axes>"
            ]
          },
          "metadata": {
            "tags": [],
            "needs_background": "light"
          }
        }
      ]
    },
    {
      "cell_type": "code",
      "metadata": {
        "id": "2vvb1jfwfmMz",
        "colab": {
          "base_uri": "https://localhost:8080/",
          "height": 297
        },
        "outputId": "7899cfe8-e403-4d94-f628-468edbfd5bd1"
      },
      "source": [
        "sns.countplot(x=\"spam\",data=df_test)"
      ],
      "execution_count": 12,
      "outputs": [
        {
          "output_type": "execute_result",
          "data": {
            "text/plain": [
              "<matplotlib.axes._subplots.AxesSubplot at 0x7fe529af0c50>"
            ]
          },
          "metadata": {
            "tags": []
          },
          "execution_count": 12
        },
        {
          "output_type": "display_data",
          "data": {
            "image/png": "[encoded data removed]",
            "text/plain": [
              "<Figure size 432x288 with 1 Axes>"
            ]
          },
          "metadata": {
            "tags": [],
            "needs_background": "light"
          }
        }
      ]
    },
    {
      "cell_type": "code",
      "metadata": {
        "id": "5wcKS2gLg1tS"
      },
      "source": [
        "train_data = (\n",
        "    tf.data.Dataset.from_tensor_slices(\n",
        "        (\n",
        "            tf.cast(df_train[1].values, tf.string),\n",
        "            tf.cast(df_train['spam'].values, tf.int32)\n",
        "        )\n",
        "    )\n",
        ")\n",
        "\n",
        "test_data = (\n",
        "    tf.data.Dataset.from_tensor_slices(\n",
        "        (\n",
        "            tf.cast(df_test[1].values, tf.string),\n",
        "            tf.cast(df_test['spam'].values, tf.int32)\n",
        "        )\n",
        "    )\n",
        ")"
      ],
      "execution_count": 14,
      "outputs": []
    },
    {
      "cell_type": "code",
      "metadata": {
        "id": "Rbg9IRpAhU8b"
      },
      "source": [
        "train_examples_batch, train_labels_batch = next(iter(train_data.batch(10)))"
      ],
      "execution_count": 15,
      "outputs": []
    },
    {
      "cell_type": "code",
      "metadata": {
        "id": "HR6IRvfHp6o-"
      },
      "source": [
        "embedding = \"https://tfhub.dev/google/tf2-preview/gnews-swivel-20dim/1\"\n",
        "hub_layer = hub.KerasLayer(embedding, input_shape=[], \n",
        "                           dtype=tf.string, trainable=True)"
      ],
      "execution_count": 16,
      "outputs": []
    },
    {
      "cell_type": "code",
      "metadata": {
        "id": "eI8uV4lUqTe_",
        "colab": {
          "base_uri": "https://localhost:8080/"
        },
        "outputId": "8e11e1e7-d7eb-4157-c08b-2c4c29f8d528"
      },
      "source": [
        "model = Sequential([\n",
        "    hub_layer,\n",
        "    Dense(16,activation='relu'),\n",
        "    Dense(1)\n",
        "])\n",
        "\n",
        "model.compile(\n",
        "    optimizer='adam',\n",
        "    loss = keras.losses.BinaryCrossentropy(from_logits=True),\n",
        "    metrics=['accuracy']\n",
        ")\n",
        "\n",
        "model.summary()"
      ],
      "execution_count": 19,
      "outputs": [
        {
          "output_type": "stream",
          "text": [
            "Model: \"sequential_1\"\n",
            "_________________________________________________________________\n",
            "Layer (type)                 Output Shape              Param #   \n",
            "=================================================================\n",
            "keras_layer (KerasLayer)     (None, 20)                400020    \n",
            "_________________________________________________________________\n",
            "dense_2 (Dense)              (None, 16)                336       \n",
            "_________________________________________________________________\n",
            "dense_3 (Dense)              (None, 1)                 17        \n",
            "=================================================================\n",
            "Total params: 400,373\n",
            "Trainable params: 400,373\n",
            "Non-trainable params: 0\n",
            "_________________________________________________________________\n"
          ],
          "name": "stdout"
        }
      ]
    },
    {
      "cell_type": "code",
      "metadata": {
        "colab": {
          "base_uri": "https://localhost:8080/"
        },
        "id": "bfjBuQlkveI5",
        "outputId": "1de9f934-7eff-42d1-82ea-c094e85fe892"
      },
      "source": [
        "history = model.fit(\n",
        "    train_data.shuffle(10000).batch(512),\n",
        "    epochs=100,\n",
        "    validation_data=test_data.batch(512),\n",
        "    verbose=1\n",
        ")"
      ],
      "execution_count": 20,
      "outputs": [
        {
          "output_type": "stream",
          "text": [
            "Epoch 1/100\n",
            "9/9 [==============================] - 4s 24ms/step - loss: 0.5677 - accuracy: 0.8504 - val_loss: 0.5037 - val_accuracy: 0.8614\n",
            "Epoch 2/100\n",
            "9/9 [==============================] - 0s 10ms/step - loss: 0.4578 - accuracy: 0.8648 - val_loss: 0.4247 - val_accuracy: 0.8642\n",
            "Epoch 3/100\n",
            "9/9 [==============================] - 0s 9ms/step - loss: 0.3982 - accuracy: 0.8653 - val_loss: 0.3822 - val_accuracy: 0.8642\n",
            "Epoch 4/100\n",
            "9/9 [==============================] - 0s 10ms/step - loss: 0.3642 - accuracy: 0.8658 - val_loss: 0.3552 - val_accuracy: 0.8649\n",
            "Epoch 5/100\n",
            "9/9 [==============================] - 0s 10ms/step - loss: 0.3414 - accuracy: 0.8660 - val_loss: 0.3349 - val_accuracy: 0.8649\n",
            "Epoch 6/100\n",
            "9/9 [==============================] - 0s 9ms/step - loss: 0.3231 - accuracy: 0.8660 - val_loss: 0.3182 - val_accuracy: 0.8642\n",
            "Epoch 7/100\n",
            "9/9 [==============================] - 0s 10ms/step - loss: 0.3073 - accuracy: 0.8660 - val_loss: 0.3038 - val_accuracy: 0.8649\n",
            "Epoch 8/100\n",
            "9/9 [==============================] - 0s 9ms/step - loss: 0.2932 - accuracy: 0.8667 - val_loss: 0.2910 - val_accuracy: 0.8671\n",
            "Epoch 9/100\n",
            "9/9 [==============================] - 0s 10ms/step - loss: 0.2804 - accuracy: 0.8679 - val_loss: 0.2793 - val_accuracy: 0.8678\n",
            "Epoch 10/100\n",
            "9/9 [==============================] - 0s 9ms/step - loss: 0.2683 - accuracy: 0.8701 - val_loss: 0.2681 - val_accuracy: 0.8693\n",
            "Epoch 11/100\n",
            "9/9 [==============================] - 0s 10ms/step - loss: 0.2570 - accuracy: 0.8734 - val_loss: 0.2572 - val_accuracy: 0.8700\n",
            "Epoch 12/100\n",
            "9/9 [==============================] - 0s 10ms/step - loss: 0.2459 - accuracy: 0.8770 - val_loss: 0.2470 - val_accuracy: 0.8736\n",
            "Epoch 13/100\n",
            "9/9 [==============================] - 0s 9ms/step - loss: 0.2355 - accuracy: 0.8849 - val_loss: 0.2370 - val_accuracy: 0.8800\n",
            "Epoch 14/100\n",
            "9/9 [==============================] - 0s 9ms/step - loss: 0.2253 - accuracy: 0.8914 - val_loss: 0.2273 - val_accuracy: 0.8858\n",
            "Epoch 15/100\n",
            "9/9 [==============================] - 0s 10ms/step - loss: 0.2155 - accuracy: 0.8985 - val_loss: 0.2180 - val_accuracy: 0.8922\n",
            "Epoch 16/100\n",
            "9/9 [==============================] - 0s 10ms/step - loss: 0.2059 - accuracy: 0.9074 - val_loss: 0.2091 - val_accuracy: 0.9001\n",
            "Epoch 17/100\n",
            "9/9 [==============================] - 0s 9ms/step - loss: 0.1968 - accuracy: 0.9184 - val_loss: 0.2006 - val_accuracy: 0.9073\n",
            "Epoch 18/100\n",
            "9/9 [==============================] - 0s 10ms/step - loss: 0.1879 - accuracy: 0.9261 - val_loss: 0.1920 - val_accuracy: 0.9124\n",
            "Epoch 19/100\n",
            "9/9 [==============================] - 0s 9ms/step - loss: 0.1790 - accuracy: 0.9332 - val_loss: 0.1838 - val_accuracy: 0.9203\n",
            "Epoch 20/100\n",
            "9/9 [==============================] - 0s 9ms/step - loss: 0.1707 - accuracy: 0.9395 - val_loss: 0.1760 - val_accuracy: 0.9267\n",
            "Epoch 21/100\n",
            "9/9 [==============================] - 0s 9ms/step - loss: 0.1625 - accuracy: 0.9450 - val_loss: 0.1685 - val_accuracy: 0.9318\n",
            "Epoch 22/100\n",
            "9/9 [==============================] - 0s 9ms/step - loss: 0.1548 - accuracy: 0.9493 - val_loss: 0.1614 - val_accuracy: 0.9375\n",
            "Epoch 23/100\n",
            "9/9 [==============================] - 0s 10ms/step - loss: 0.1476 - accuracy: 0.9524 - val_loss: 0.1546 - val_accuracy: 0.9425\n",
            "Epoch 24/100\n",
            "9/9 [==============================] - 0s 10ms/step - loss: 0.1405 - accuracy: 0.9560 - val_loss: 0.1489 - val_accuracy: 0.9497\n",
            "Epoch 25/100\n",
            "9/9 [==============================] - 0s 9ms/step - loss: 0.1337 - accuracy: 0.9600 - val_loss: 0.1428 - val_accuracy: 0.9519\n",
            "Epoch 26/100\n",
            "9/9 [==============================] - 0s 11ms/step - loss: 0.1271 - accuracy: 0.9631 - val_loss: 0.1372 - val_accuracy: 0.9562\n",
            "Epoch 27/100\n",
            "9/9 [==============================] - 0s 10ms/step - loss: 0.1209 - accuracy: 0.9658 - val_loss: 0.1315 - val_accuracy: 0.9576\n",
            "Epoch 28/100\n",
            "9/9 [==============================] - 0s 10ms/step - loss: 0.1149 - accuracy: 0.9670 - val_loss: 0.1260 - val_accuracy: 0.9583\n",
            "Epoch 29/100\n",
            "9/9 [==============================] - 0s 9ms/step - loss: 0.1093 - accuracy: 0.9682 - val_loss: 0.1210 - val_accuracy: 0.9605\n",
            "Epoch 30/100\n",
            "9/9 [==============================] - 0s 10ms/step - loss: 0.1039 - accuracy: 0.9703 - val_loss: 0.1168 - val_accuracy: 0.9641\n",
            "Epoch 31/100\n",
            "9/9 [==============================] - 0s 10ms/step - loss: 0.0990 - accuracy: 0.9730 - val_loss: 0.1126 - val_accuracy: 0.9641\n",
            "Epoch 32/100\n",
            "9/9 [==============================] - 0s 9ms/step - loss: 0.0941 - accuracy: 0.9765 - val_loss: 0.1082 - val_accuracy: 0.9648\n",
            "Epoch 33/100\n",
            "9/9 [==============================] - 0s 10ms/step - loss: 0.0898 - accuracy: 0.9763 - val_loss: 0.1043 - val_accuracy: 0.9655\n",
            "Epoch 34/100\n",
            "9/9 [==============================] - 0s 10ms/step - loss: 0.0856 - accuracy: 0.9792 - val_loss: 0.1011 - val_accuracy: 0.9677\n",
            "Epoch 35/100\n",
            "9/9 [==============================] - 0s 10ms/step - loss: 0.0813 - accuracy: 0.9804 - val_loss: 0.0977 - val_accuracy: 0.9684\n",
            "Epoch 36/100\n",
            "9/9 [==============================] - 0s 10ms/step - loss: 0.0774 - accuracy: 0.9811 - val_loss: 0.0939 - val_accuracy: 0.9705\n",
            "Epoch 37/100\n",
            "9/9 [==============================] - 0s 10ms/step - loss: 0.0737 - accuracy: 0.9816 - val_loss: 0.0914 - val_accuracy: 0.9713\n",
            "Epoch 38/100\n",
            "9/9 [==============================] - 0s 11ms/step - loss: 0.0702 - accuracy: 0.9823 - val_loss: 0.0887 - val_accuracy: 0.9713\n",
            "Epoch 39/100\n",
            "9/9 [==============================] - 0s 10ms/step - loss: 0.0668 - accuracy: 0.9832 - val_loss: 0.0854 - val_accuracy: 0.9727\n",
            "Epoch 40/100\n",
            "9/9 [==============================] - 0s 10ms/step - loss: 0.0638 - accuracy: 0.9835 - val_loss: 0.0825 - val_accuracy: 0.9727\n",
            "Epoch 41/100\n",
            "9/9 [==============================] - 0s 10ms/step - loss: 0.0609 - accuracy: 0.9842 - val_loss: 0.0804 - val_accuracy: 0.9741\n",
            "Epoch 42/100\n",
            "9/9 [==============================] - 0s 10ms/step - loss: 0.0581 - accuracy: 0.9868 - val_loss: 0.0789 - val_accuracy: 0.9756\n",
            "Epoch 43/100\n",
            "9/9 [==============================] - 0s 10ms/step - loss: 0.0555 - accuracy: 0.9876 - val_loss: 0.0765 - val_accuracy: 0.9756\n",
            "Epoch 44/100\n",
            "9/9 [==============================] - 0s 9ms/step - loss: 0.0530 - accuracy: 0.9880 - val_loss: 0.0743 - val_accuracy: 0.9770\n",
            "Epoch 45/100\n",
            "9/9 [==============================] - 0s 10ms/step - loss: 0.0506 - accuracy: 0.9888 - val_loss: 0.0725 - val_accuracy: 0.9784\n",
            "Epoch 46/100\n",
            "9/9 [==============================] - 0s 9ms/step - loss: 0.0483 - accuracy: 0.9890 - val_loss: 0.0703 - val_accuracy: 0.9792\n",
            "Epoch 47/100\n",
            "9/9 [==============================] - 0s 9ms/step - loss: 0.0463 - accuracy: 0.9892 - val_loss: 0.0684 - val_accuracy: 0.9792\n",
            "Epoch 48/100\n",
            "9/9 [==============================] - 0s 10ms/step - loss: 0.0442 - accuracy: 0.9902 - val_loss: 0.0671 - val_accuracy: 0.9813\n",
            "Epoch 49/100\n",
            "9/9 [==============================] - 0s 9ms/step - loss: 0.0424 - accuracy: 0.9914 - val_loss: 0.0659 - val_accuracy: 0.9813\n",
            "Epoch 50/100\n",
            "9/9 [==============================] - 0s 9ms/step - loss: 0.0405 - accuracy: 0.9919 - val_loss: 0.0643 - val_accuracy: 0.9813\n",
            "Epoch 51/100\n",
            "9/9 [==============================] - 0s 9ms/step - loss: 0.0388 - accuracy: 0.9916 - val_loss: 0.0632 - val_accuracy: 0.9813\n",
            "Epoch 52/100\n",
            "9/9 [==============================] - 0s 12ms/step - loss: 0.0372 - accuracy: 0.9916 - val_loss: 0.0620 - val_accuracy: 0.9813\n",
            "Epoch 53/100\n",
            "9/9 [==============================] - 0s 10ms/step - loss: 0.0357 - accuracy: 0.9921 - val_loss: 0.0608 - val_accuracy: 0.9820\n",
            "Epoch 54/100\n",
            "9/9 [==============================] - 0s 10ms/step - loss: 0.0341 - accuracy: 0.9926 - val_loss: 0.0600 - val_accuracy: 0.9820\n",
            "Epoch 55/100\n",
            "9/9 [==============================] - 0s 11ms/step - loss: 0.0327 - accuracy: 0.9928 - val_loss: 0.0594 - val_accuracy: 0.9835\n",
            "Epoch 56/100\n",
            "9/9 [==============================] - 0s 10ms/step - loss: 0.0314 - accuracy: 0.9928 - val_loss: 0.0587 - val_accuracy: 0.9835\n",
            "Epoch 57/100\n",
            "9/9 [==============================] - 0s 9ms/step - loss: 0.0302 - accuracy: 0.9928 - val_loss: 0.0577 - val_accuracy: 0.9842\n",
            "Epoch 58/100\n",
            "9/9 [==============================] - 0s 9ms/step - loss: 0.0289 - accuracy: 0.9940 - val_loss: 0.0579 - val_accuracy: 0.9849\n",
            "Epoch 59/100\n",
            "9/9 [==============================] - 0s 10ms/step - loss: 0.0279 - accuracy: 0.9945 - val_loss: 0.0566 - val_accuracy: 0.9849\n",
            "Epoch 60/100\n",
            "9/9 [==============================] - 0s 9ms/step - loss: 0.0267 - accuracy: 0.9947 - val_loss: 0.0555 - val_accuracy: 0.9849\n",
            "Epoch 61/100\n",
            "9/9 [==============================] - 0s 9ms/step - loss: 0.0256 - accuracy: 0.9945 - val_loss: 0.0550 - val_accuracy: 0.9849\n",
            "Epoch 62/100\n",
            "9/9 [==============================] - 0s 10ms/step - loss: 0.0247 - accuracy: 0.9947 - val_loss: 0.0546 - val_accuracy: 0.9856\n",
            "Epoch 63/100\n",
            "9/9 [==============================] - 0s 10ms/step - loss: 0.0238 - accuracy: 0.9950 - val_loss: 0.0541 - val_accuracy: 0.9856\n",
            "Epoch 64/100\n",
            "9/9 [==============================] - 0s 10ms/step - loss: 0.0230 - accuracy: 0.9950 - val_loss: 0.0535 - val_accuracy: 0.9856\n",
            "Epoch 65/100\n",
            "9/9 [==============================] - 0s 10ms/step - loss: 0.0221 - accuracy: 0.9952 - val_loss: 0.0526 - val_accuracy: 0.9856\n",
            "Epoch 66/100\n",
            "9/9 [==============================] - 0s 10ms/step - loss: 0.0214 - accuracy: 0.9952 - val_loss: 0.0523 - val_accuracy: 0.9856\n",
            "Epoch 67/100\n",
            "9/9 [==============================] - 0s 10ms/step - loss: 0.0205 - accuracy: 0.9952 - val_loss: 0.0517 - val_accuracy: 0.9864\n",
            "Epoch 68/100\n",
            "9/9 [==============================] - 0s 10ms/step - loss: 0.0199 - accuracy: 0.9955 - val_loss: 0.0511 - val_accuracy: 0.9864\n",
            "Epoch 69/100\n",
            "9/9 [==============================] - 0s 10ms/step - loss: 0.0193 - accuracy: 0.9957 - val_loss: 0.0510 - val_accuracy: 0.9864\n",
            "Epoch 70/100\n",
            "9/9 [==============================] - 0s 10ms/step - loss: 0.0185 - accuracy: 0.9957 - val_loss: 0.0509 - val_accuracy: 0.9864\n",
            "Epoch 71/100\n",
            "9/9 [==============================] - 0s 10ms/step - loss: 0.0179 - accuracy: 0.9959 - val_loss: 0.0506 - val_accuracy: 0.9871\n",
            "Epoch 72/100\n",
            "9/9 [==============================] - 0s 9ms/step - loss: 0.0173 - accuracy: 0.9964 - val_loss: 0.0504 - val_accuracy: 0.9864\n",
            "Epoch 73/100\n",
            "9/9 [==============================] - 0s 10ms/step - loss: 0.0167 - accuracy: 0.9964 - val_loss: 0.0500 - val_accuracy: 0.9864\n",
            "Epoch 74/100\n",
            "9/9 [==============================] - 0s 10ms/step - loss: 0.0162 - accuracy: 0.9964 - val_loss: 0.0498 - val_accuracy: 0.9864\n",
            "Epoch 75/100\n",
            "9/9 [==============================] - 0s 11ms/step - loss: 0.0156 - accuracy: 0.9964 - val_loss: 0.0495 - val_accuracy: 0.9864\n",
            "Epoch 76/100\n",
            "9/9 [==============================] - 0s 10ms/step - loss: 0.0152 - accuracy: 0.9964 - val_loss: 0.0493 - val_accuracy: 0.9864\n",
            "Epoch 77/100\n",
            "9/9 [==============================] - 0s 10ms/step - loss: 0.0147 - accuracy: 0.9966 - val_loss: 0.0491 - val_accuracy: 0.9864\n",
            "Epoch 78/100\n",
            "9/9 [==============================] - 0s 9ms/step - loss: 0.0143 - accuracy: 0.9969 - val_loss: 0.0489 - val_accuracy: 0.9864\n",
            "Epoch 79/100\n",
            "9/9 [==============================] - 0s 10ms/step - loss: 0.0138 - accuracy: 0.9969 - val_loss: 0.0487 - val_accuracy: 0.9878\n",
            "Epoch 80/100\n",
            "9/9 [==============================] - 0s 9ms/step - loss: 0.0134 - accuracy: 0.9969 - val_loss: 0.0484 - val_accuracy: 0.9871\n",
            "Epoch 81/100\n",
            "9/9 [==============================] - 0s 10ms/step - loss: 0.0130 - accuracy: 0.9971 - val_loss: 0.0482 - val_accuracy: 0.9871\n",
            "Epoch 82/100\n",
            "9/9 [==============================] - 0s 10ms/step - loss: 0.0127 - accuracy: 0.9974 - val_loss: 0.0483 - val_accuracy: 0.9878\n",
            "Epoch 83/100\n",
            "9/9 [==============================] - 0s 10ms/step - loss: 0.0122 - accuracy: 0.9976 - val_loss: 0.0482 - val_accuracy: 0.9878\n",
            "Epoch 84/100\n",
            "9/9 [==============================] - 0s 10ms/step - loss: 0.0118 - accuracy: 0.9978 - val_loss: 0.0481 - val_accuracy: 0.9878\n",
            "Epoch 85/100\n",
            "9/9 [==============================] - 0s 10ms/step - loss: 0.0115 - accuracy: 0.9978 - val_loss: 0.0479 - val_accuracy: 0.9878\n",
            "Epoch 86/100\n",
            "9/9 [==============================] - 0s 9ms/step - loss: 0.0112 - accuracy: 0.9978 - val_loss: 0.0478 - val_accuracy: 0.9878\n",
            "Epoch 87/100\n",
            "9/9 [==============================] - 0s 9ms/step - loss: 0.0109 - accuracy: 0.9978 - val_loss: 0.0477 - val_accuracy: 0.9878\n",
            "Epoch 88/100\n",
            "9/9 [==============================] - 0s 9ms/step - loss: 0.0106 - accuracy: 0.9978 - val_loss: 0.0476 - val_accuracy: 0.9878\n",
            "Epoch 89/100\n",
            "9/9 [==============================] - 0s 9ms/step - loss: 0.0103 - accuracy: 0.9981 - val_loss: 0.0476 - val_accuracy: 0.9871\n",
            "Epoch 90/100\n",
            "9/9 [==============================] - 0s 11ms/step - loss: 0.0100 - accuracy: 0.9981 - val_loss: 0.0476 - val_accuracy: 0.9878\n",
            "Epoch 91/100\n",
            "9/9 [==============================] - 0s 10ms/step - loss: 0.0097 - accuracy: 0.9981 - val_loss: 0.0475 - val_accuracy: 0.9871\n",
            "Epoch 92/100\n",
            "9/9 [==============================] - 0s 10ms/step - loss: 0.0095 - accuracy: 0.9981 - val_loss: 0.0476 - val_accuracy: 0.9871\n",
            "Epoch 93/100\n",
            "9/9 [==============================] - 0s 10ms/step - loss: 0.0093 - accuracy: 0.9981 - val_loss: 0.0477 - val_accuracy: 0.9871\n",
            "Epoch 94/100\n",
            "9/9 [==============================] - 0s 11ms/step - loss: 0.0090 - accuracy: 0.9983 - val_loss: 0.0476 - val_accuracy: 0.9871\n",
            "Epoch 95/100\n",
            "9/9 [==============================] - 0s 10ms/step - loss: 0.0088 - accuracy: 0.9983 - val_loss: 0.0477 - val_accuracy: 0.9871\n",
            "Epoch 96/100\n",
            "9/9 [==============================] - 0s 10ms/step - loss: 0.0086 - accuracy: 0.9983 - val_loss: 0.0477 - val_accuracy: 0.9864\n",
            "Epoch 97/100\n",
            "9/9 [==============================] - 0s 11ms/step - loss: 0.0084 - accuracy: 0.9988 - val_loss: 0.0479 - val_accuracy: 0.9864\n",
            "Epoch 98/100\n",
            "9/9 [==============================] - 0s 10ms/step - loss: 0.0082 - accuracy: 0.9988 - val_loss: 0.0480 - val_accuracy: 0.9864\n",
            "Epoch 99/100\n",
            "9/9 [==============================] - 0s 10ms/step - loss: 0.0080 - accuracy: 0.9990 - val_loss: 0.0481 - val_accuracy: 0.9864\n",
            "Epoch 100/100\n",
            "9/9 [==============================] - 0s 10ms/step - loss: 0.0078 - accuracy: 0.9990 - val_loss: 0.0481 - val_accuracy: 0.9856\n"
          ],
          "name": "stdout"
        }
      ]
    },
    {
      "cell_type": "code",
      "metadata": {
        "colab": {
          "base_uri": "https://localhost:8080/",
          "height": 336
        },
        "id": "7BNJlp6QwUYX",
        "outputId": "0628ab12-71e9-4b50-840e-40629e840e26"
      },
      "source": [
        "def plot_history(history):\n",
        "    acc = history.history['accuracy']\n",
        "    val_acc = history.history['val_accuracy']\n",
        "    loss = history.history['loss']\n",
        "    val_loss = history.history['val_loss']\n",
        "    x = range(1, len(acc) + 1)\n",
        "\n",
        "    plt.figure(figsize=(12, 5))\n",
        "    plt.subplot(1, 2, 1)\n",
        "    plt.plot(x, acc, 'b', label='Training acc')\n",
        "    plt.plot(x, val_acc, 'r', label='Validation acc')\n",
        "    plt.title('Training and validation accuracy')\n",
        "    plt.legend()\n",
        "    plt.subplot(1, 2, 2)\n",
        "    plt.plot(x, loss, 'b', label='Training loss')\n",
        "    plt.plot(x, val_loss, 'r', label='Validation loss')\n",
        "    plt.title('Training and validation loss')\n",
        "    plt.legend()\n",
        "plot_history(history)"
      ],
      "execution_count": 22,
      "outputs": [
        {
          "output_type": "display_data",
          "data": {
            "image/png": "[encoded data removed]",
            "text/plain": [
              "<Figure size 864x360 with 2 Axes>"
            ]
          },
          "metadata": {
            "tags": [],
            "needs_background": "light"
          }
        }
      ]
    },
    {
      "cell_type": "code",
      "metadata": {
        "colab": {
          "base_uri": "https://localhost:8080/"
        },
        "id": "dWPKm1Y6aZOz",
        "outputId": "4ced5c3d-caa3-4640-e2c5-cbbd28407078"
      },
      "source": [
        "results = model.evaluate(test_data.batch(512), verbose=2)\n",
        "\n",
        "for name, value in zip(model.metrics_names, results):\n",
        "  print(\"%s: %.3f\" % (name,value))"
      ],
      "execution_count": 25,
      "outputs": [
        {
          "output_type": "stream",
          "text": [
            "3/3 - 0s - loss: 0.0481 - accuracy: 0.9856\n",
            "loss: 0.048\n",
            "accuracy: 0.986\n"
          ],
          "name": "stdout"
        }
      ]
    },
    {
      "cell_type": "code",
      "metadata": {
        "id": "J9tD9yACG6M9",
        "colab": {
          "base_uri": "https://localhost:8080/"
        },
        "outputId": "76b415b6-ae05-4638-f1ff-c8e0ac94844a"
      },
      "source": [
        "# function to predict messages based on model\n",
        "# (should return list containing prediction and label, ex. [0.008318834938108921, 'ham'])\n",
        "def predict_message(pred_text):\n",
        "  pred_text = [pred_text]\n",
        "  prediction = tf.cast(pred_text, tf.string)\n",
        "  prediction = model.predict(prediction)[0]\n",
        "  if prediction[0] > 0:\n",
        "    prediction = [prediction[0], 'spam']\n",
        "  else:\n",
        "    prediction = [prediction[0], 'ham']\n",
        "\n",
        "  return (prediction)\n",
        "\n",
        "pred_text = \"how are you doing today?\"\n",
        "\n",
        "prediction = predict_message(pred_text)\n",
        "print(prediction)"
      ],
      "execution_count": 26,
      "outputs": [
        {
          "output_type": "stream",
          "text": [
            "[-9.485032, 'ham']\n"
          ],
          "name": "stdout"
        }
      ]
    },
    {
      "cell_type": "code",
      "metadata": {
        "id": "Dxotov85SjsC",
        "colab": {
          "base_uri": "https://localhost:8080/"
        },
        "outputId": "39044931-9c52-4b81-95a5-1c9f6ea7dd19"
      },
      "source": [
        "# Run this cell to test your function and model. Do not modify contents.\n",
        "def test_predictions():\n",
        "  test_messages = [\"how are you doing today\",\n",
        "                   \"sale today! to stop texts call 98912460324\",\n",
        "                   \"i dont want to go. can we try it a different day? available sat\",\n",
        "                   \"our new mobile video service is live. just install on your phone to start watching.\",\n",
        "                   \"you have won £1000 cash! call to claim your prize.\",\n",
        "                   \"i'll bring it tomorrow. don't forget the milk.\",\n",
        "                   \"wow, is your arm alright. that happened to me one time too\"\n",
        "                  ]\n",
        "\n",
        "  test_answers = [\"ham\", \"spam\", \"ham\", \"spam\", \"spam\", \"ham\", \"ham\"]\n",
        "  passed = True\n",
        "\n",
        "  for msg, ans in zip(test_messages, test_answers):\n",
        "    prediction = predict_message(msg)\n",
        "    if prediction[1] != ans:\n",
        "      passed = False\n",
        "\n",
        "  if passed:\n",
        "    print(\"You passed the challenge. Great job!\")\n",
        "  else:\n",
        "    print(\"You haven't passed yet. Keep trying.\")\n",
        "\n",
        "test_predictions()\n"
      ],
      "execution_count": 27,
      "outputs": [
        {
          "output_type": "stream",
          "text": [
            "You passed the challenge. Great job!\n"
          ],
          "name": "stdout"
        }
      ]
    }
  ]
}